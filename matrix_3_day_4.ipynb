{
  "nbformat": 4,
  "nbformat_minor": 0,
  "metadata": {
    "colab": {
      "name": "matrix_3_day_4.ipynb",
      "provenance": [],
      "mount_file_id": "19mLGu0043BKBjZzNg-mht9oELh8ah1S-",
      "authorship_tag": "ABX9TyO6AQo3IGa918FvSEJcev9e",
      "include_colab_link": true
    },
    "kernelspec": {
      "name": "python3",
      "display_name": "Python 3"
    },
    "accelerator": "GPU"
  },
  "cells": [
    {
      "cell_type": "markdown",
      "metadata": {
        "id": "view-in-github",
        "colab_type": "text"
      },
      "source": [
        "<a href=\"https://colab.research.google.com/github/MaxKuzaj13/dw_matrix_road_sign/blob/master/matrix_3_day_4.ipynb\" target=\"_parent\"><img src=\"https://colab.research.google.com/assets/colab-badge.svg\" alt=\"Open In Colab\"/></a>"
      ]
    },
    {
      "cell_type": "code",
      "metadata": {
        "id": "75ATRQO2Fe3U",
        "colab_type": "code",
        "colab": {
          "base_uri": "https://localhost:8080/",
          "height": 35
        },
        "outputId": "62cfe8af-aab8-44db-e065-832188c11fe6"
      },
      "source": [
        "pwd"
      ],
      "execution_count": 1,
      "outputs": [
        {
          "output_type": "execute_result",
          "data": {
            "text/plain": [
              "'/content'"
            ]
          },
          "metadata": {
            "tags": []
          },
          "execution_count": 1
        }
      ]
    },
    {
      "cell_type": "code",
      "metadata": {
        "id": "ry7wbKF9FlQM",
        "colab_type": "code",
        "colab": {}
      },
      "source": [
        "import pandas as pd\n",
        "import numpy as np\n",
        "import tensorflow as tf\n",
        "from tensorflow.keras.models import Sequential\n",
        "from tensorflow.keras.layers import Conv2D, MaxPool2D, Dense, Flatten, Dropout\n",
        "from tensorflow.keras.utils import to_categorical\n",
        "import datetime\n",
        "import os\n",
        "\n",
        "\n",
        "#%load_ext tensorboard\n",
        "import matplotlib.pyplot as plt\n",
        "from skimage import color,exposure\n",
        "from sklearn.metrics import accuracy_score"
      ],
      "execution_count": 0,
      "outputs": []
    },
    {
      "cell_type": "code",
      "metadata": {
        "id": "nhNYfS-zF_ve",
        "colab_type": "code",
        "colab": {
          "base_uri": "https://localhost:8080/",
          "height": 35
        },
        "outputId": "0feb77f7-e175-4385-a2ff-faf9d174db32"
      },
      "source": [
        "cd '/content/drive/My Drive/Colab Notebooks/matrix/matrix_three'"
      ],
      "execution_count": 3,
      "outputs": [
        {
          "output_type": "stream",
          "text": [
            "/content/drive/My Drive/Colab Notebooks/matrix/matrix_three\n"
          ],
          "name": "stdout"
        }
      ]
    },
    {
      "cell_type": "code",
      "metadata": {
        "id": "i4yo8JVpGAQV",
        "colab_type": "code",
        "colab": {}
      },
      "source": [
        "train = pd.read_pickle('data/train.p')\n",
        "test = pd.read_pickle('data/test.p')\n",
        "X_train, y_train = train['features'], train['labels']\n",
        "X_test, y_test = test['features'], test['labels']\n",
        "df = pd.read_csv('data/signnames.csv')\n",
        "labels_dict =df.to_dict()['b']"
      ],
      "execution_count": 0,
      "outputs": []
    },
    {
      "cell_type": "code",
      "metadata": {
        "id": "k8Hon6DCGFd0",
        "colab_type": "code",
        "colab": {
          "base_uri": "https://localhost:8080/",
          "height": 217
        },
        "outputId": "15bb4938-1d39-442e-99c7-932997f5064e"
      },
      "source": [
        "y_pred_prob[400]"
      ],
      "execution_count": 79,
      "outputs": [
        {
          "output_type": "execute_result",
          "data": {
            "text/plain": [
              "array([5.5010236e-09, 9.9999988e-01, 7.7017131e-15, 2.1831603e-14,\n",
              "       8.9423921e-08, 1.9332235e-12, 1.7959863e-18, 6.8035010e-17,\n",
              "       1.1709584e-28, 9.4832009e-17, 1.3464366e-24, 2.0543618e-18,\n",
              "       4.8738494e-32, 1.5696905e-29, 3.9613937e-27, 8.6476689e-33,\n",
              "       5.2402204e-24, 1.0855983e-28, 7.9269707e-14, 2.5354436e-33,\n",
              "       1.9531131e-25, 3.8969095e-22, 1.9327508e-35, 5.6921497e-26,\n",
              "       5.9337026e-20, 4.1454715e-29, 7.8557748e-22, 1.6817528e-37,\n",
              "       1.9377528e-16, 1.3576865e-15, 1.9380026e-25, 1.1921103e-20,\n",
              "       0.0000000e+00, 7.7992885e-35, 5.2391290e-36, 9.9048457e-26,\n",
              "       0.0000000e+00, 0.0000000e+00, 6.8178755e-30, 0.0000000e+00,\n",
              "       6.7156304e-38, 1.8553990e-36, 1.9622348e-29], dtype=float32)"
            ]
          },
          "metadata": {
            "tags": []
          },
          "execution_count": 79
        }
      ]
    },
    {
      "cell_type": "code",
      "metadata": {
        "id": "2Zost3pgGVvt",
        "colab_type": "code",
        "colab": {}
      },
      "source": [
        "if y_train.ndim ==1: y_train = to_categorical(y_train)\n",
        "if y_test.ndim ==1: y_test = to_categorical(y_test)\n"
      ],
      "execution_count": 0,
      "outputs": []
    },
    {
      "cell_type": "code",
      "metadata": {
        "id": "Y3cw1naDGfOB",
        "colab_type": "code",
        "colab": {}
      },
      "source": [
        "input_shape = X_train.shape[1:]\n",
        "num_classes = y_train.shape[1]"
      ],
      "execution_count": 0,
      "outputs": []
    },
    {
      "cell_type": "code",
      "metadata": {
        "id": "liFmSwxPGltd",
        "colab_type": "code",
        "colab": {}
      },
      "source": [
        "def get_cnn_v1(input_shape, num_classes):\n",
        "  return  Sequential([\n",
        "                  Conv2D(filters=65, kernel_size=(3,3), activation='relu',input_shape=input_shape),\n",
        "                  Flatten(),\n",
        "                  Dense(num_classes, activation='softmax'),\n",
        "])\n",
        "\n",
        "\n",
        "def train_model(model, X_train, y_train, params_fit={}):\n",
        "  model.compile(loss = 'categorical_crossentropy', optimizer= 'Adam', metrics=['accuracy'])\n",
        "\n",
        "  logdir=os.path.join(\"logs\", datetime.datetime.now().strftime(\"%Y%m%d-%H%M%S\"))\n",
        "  tensorboard_callback = tf.keras.callbacks.TensorBoard(logdir, histogram_freq=1)\n",
        "\n",
        "  model.fit(\n",
        "      X_train, \n",
        "      y_train,\n",
        "      batch_size = params_fit.get('batch_size', 128),\n",
        "      epochs = params_fit.get('epochs', 5),\n",
        "      verbose = params_fit.get('verbose', 1),\n",
        "      validation_data = params_fit.get('validation_data', (X_train, y_train)),\n",
        "      callbacks = [tensorboard_callback]\n",
        "  )\n",
        "  return model "
      ],
      "execution_count": 0,
      "outputs": []
    },
    {
      "cell_type": "code",
      "metadata": {
        "id": "jwWqgHfYG1xA",
        "colab_type": "code",
        "colab": {
          "base_uri": "https://localhost:8080/",
          "height": 219
        },
        "outputId": "f2d3fdbe-d9e4-4680-a515-9664e0111b10"
      },
      "source": [
        "model  = get_cnn_v1(input_shape, num_classes)\n",
        "model_trained = train_model(model, X_train, y_train)"
      ],
      "execution_count": 80,
      "outputs": [
        {
          "output_type": "stream",
          "text": [
            "Epoch 1/5\n",
            "272/272 [==============================] - 3s 10ms/step - loss: 53.5653 - accuracy: 0.7011 - val_loss: 0.2833 - val_accuracy: 0.9341\n",
            "Epoch 2/5\n",
            "272/272 [==============================] - 3s 9ms/step - loss: 0.2631 - accuracy: 0.9405 - val_loss: 0.1487 - val_accuracy: 0.9612\n",
            "Epoch 3/5\n",
            "272/272 [==============================] - 3s 9ms/step - loss: 0.1358 - accuracy: 0.9670 - val_loss: 0.0874 - val_accuracy: 0.9783\n",
            "Epoch 4/5\n",
            "272/272 [==============================] - 2s 9ms/step - loss: 0.1145 - accuracy: 0.9732 - val_loss: 0.0768 - val_accuracy: 0.9830\n",
            "Epoch 5/5\n",
            "272/272 [==============================] - 2s 9ms/step - loss: 0.1212 - accuracy: 0.9740 - val_loss: 0.0948 - val_accuracy: 0.9760\n"
          ],
          "name": "stdout"
        }
      ]
    },
    {
      "cell_type": "code",
      "metadata": {
        "id": "2BjVe98eHAKJ",
        "colab_type": "code",
        "colab": {}
      },
      "source": [
        "def predict(model_trained, X_test, y_test, scoring = accuracy_score):\n",
        "  y_test_norm = np.argmax(y_test, axis=1)\n",
        "  y_pred_prob = model_trained.predict(X_test)\n",
        "  y_pred = np.argmax(y_pred_prob, axis=1)\n",
        "  \n",
        "  return scoring(y_test_norm, y_pred)"
      ],
      "execution_count": 0,
      "outputs": []
    },
    {
      "cell_type": "code",
      "metadata": {
        "id": "Nhi5E78TN99U",
        "colab_type": "code",
        "colab": {
          "base_uri": "https://localhost:8080/",
          "height": 35
        },
        "outputId": "472b783a-29b4-430a-eadd-c646f2e836a7"
      },
      "source": [
        "predict(model_trained, X_test, y_test)"
      ],
      "execution_count": 82,
      "outputs": [
        {
          "output_type": "execute_result",
          "data": {
            "text/plain": [
              "0.8108843537414966"
            ]
          },
          "metadata": {
            "tags": []
          },
          "execution_count": 82
        }
      ]
    },
    {
      "cell_type": "code",
      "metadata": {
        "id": "tDT7twlbUY7J",
        "colab_type": "code",
        "colab": {}
      },
      "source": [
        "def training_and_predict(model):\n",
        "  model_trained = train_model(model, X_train, y_train)\n",
        "  return predict(model_trained, X_test, y_test)"
      ],
      "execution_count": 0,
      "outputs": []
    },
    {
      "cell_type": "code",
      "metadata": {
        "id": "9MsTkC5EQ148",
        "colab_type": "code",
        "colab": {
          "base_uri": "https://localhost:8080/",
          "height": 237
        },
        "outputId": "b8778b53-5a0c-4625-c39a-6017584a767c"
      },
      "source": [
        "def get_cnn_v2(input_shape, num_classes):\n",
        "  return  Sequential([\n",
        "                  Conv2D(filters=32, kernel_size=(3,3), activation='relu',input_shape=input_shape),\n",
        "                  MaxPool2D(),\n",
        "                  Dropout(0.3),\n",
        "\n",
        "                  Conv2D(filters=64, kernel_size=(3,3), activation='relu'),\n",
        "                  MaxPool2D(),\n",
        "                  Dropout(0.3),\n",
        "\n",
        "                  Flatten(),\n",
        "                  Dense(1024, activation= 'relu'),\n",
        "                  Dropout(0.3),\n",
        "\n",
        "                  Dense(num_classes, activation='softmax'),\n",
        "])\n",
        "\n",
        "\n",
        "training_and_predict(get_cnn_v2(input_shape, num_classes))"
      ],
      "execution_count": 86,
      "outputs": [
        {
          "output_type": "stream",
          "text": [
            "Epoch 1/5\n",
            "272/272 [==============================] - 3s 9ms/step - loss: 3.8728 - accuracy: 0.4445 - val_loss: 0.5101 - val_accuracy: 0.8734\n",
            "Epoch 2/5\n",
            "272/272 [==============================] - 2s 9ms/step - loss: 0.6405 - accuracy: 0.8126 - val_loss: 0.2039 - val_accuracy: 0.9613\n",
            "Epoch 3/5\n",
            "272/272 [==============================] - 2s 9ms/step - loss: 0.3813 - accuracy: 0.8884 - val_loss: 0.1056 - val_accuracy: 0.9784\n",
            "Epoch 4/5\n",
            "272/272 [==============================] - 2s 9ms/step - loss: 0.2894 - accuracy: 0.9152 - val_loss: 0.0607 - val_accuracy: 0.9896\n",
            "Epoch 5/5\n",
            "272/272 [==============================] - 2s 9ms/step - loss: 0.2259 - accuracy: 0.9342 - val_loss: 0.0511 - val_accuracy: 0.9916\n"
          ],
          "name": "stdout"
        },
        {
          "output_type": "execute_result",
          "data": {
            "text/plain": [
              "0.9138321995464853"
            ]
          },
          "metadata": {
            "tags": []
          },
          "execution_count": 86
        }
      ]
    },
    {
      "cell_type": "code",
      "metadata": {
        "id": "-99fNOkWNWtX",
        "colab_type": "code",
        "colab": {
          "base_uri": "https://localhost:8080/",
          "height": 237
        },
        "outputId": "e80dc7a1-f876-4a67-aa61-267dc9d63a80"
      },
      "source": [
        "def get_cnn_v3(input_shape, num_classes):\n",
        "  return  Sequential([\n",
        "                  Conv2D(filters=32, kernel_size=(3,3), activation='relu',input_shape=input_shape),\n",
        "                  Conv2D(filters=32, kernel_size=(3,3), activation='relu'),\n",
        "                  MaxPool2D(),\n",
        "                  Dropout(0.3),\n",
        "\n",
        "                  Conv2D(filters=64, kernel_size=(3,3), activation='relu'),\n",
        "                  Conv2D(filters=64, kernel_size=(3,3), activation='relu'),\n",
        "\n",
        "                  MaxPool2D(),\n",
        "                  Dropout(0.3),\n",
        "\n",
        "                  Flatten(),\n",
        "                  Dense(1024, activation= 'relu'),\n",
        "                  Dropout(0.3),\n",
        "\n",
        "                  Dense(num_classes, activation='softmax'),\n",
        "])\n",
        "\n",
        "\n",
        "training_and_predict(get_cnn_v3(input_shape, num_classes))"
      ],
      "execution_count": 88,
      "outputs": [
        {
          "output_type": "stream",
          "text": [
            "Epoch 1/5\n",
            "272/272 [==============================] - 3s 12ms/step - loss: 2.2189 - accuracy: 0.5260 - val_loss: 0.3182 - val_accuracy: 0.9358\n",
            "Epoch 2/5\n",
            "272/272 [==============================] - 3s 11ms/step - loss: 0.4699 - accuracy: 0.8659 - val_loss: 0.0916 - val_accuracy: 0.9792\n",
            "Epoch 3/5\n",
            "272/272 [==============================] - 3s 11ms/step - loss: 0.2487 - accuracy: 0.9297 - val_loss: 0.0467 - val_accuracy: 0.9901\n",
            "Epoch 4/5\n",
            "272/272 [==============================] - 3s 11ms/step - loss: 0.1719 - accuracy: 0.9495 - val_loss: 0.0291 - val_accuracy: 0.9938\n",
            "Epoch 5/5\n",
            "272/272 [==============================] - 3s 11ms/step - loss: 0.1238 - accuracy: 0.9635 - val_loss: 0.0215 - val_accuracy: 0.9955\n"
          ],
          "name": "stdout"
        },
        {
          "output_type": "execute_result",
          "data": {
            "text/plain": [
              "0.9723356009070295"
            ]
          },
          "metadata": {
            "tags": []
          },
          "execution_count": 88
        }
      ]
    },
    {
      "cell_type": "code",
      "metadata": {
        "id": "mpa8aOm_V5Qc",
        "colab_type": "code",
        "colab": {
          "base_uri": "https://localhost:8080/",
          "height": 237
        },
        "outputId": "7b5fdaa8-8b99-4df0-d971-218eacb2052a"
      },
      "source": [
        "def get_cnn_v4(input_shape, num_classes):\n",
        "  return  Sequential([\n",
        "                  Conv2D(filters=32, kernel_size=(3,3), activation='relu', input_shape=input_shape),\n",
        "                  Conv2D(filters=32, kernel_size=(3,3), activation='relu', padding='same'),\n",
        "                  MaxPool2D(),\n",
        "                  Dropout(0.3),\n",
        "\n",
        "                  Conv2D(filters=64, kernel_size=(3,3), activation='relu', padding='same'),\n",
        "                  Conv2D(filters=64, kernel_size=(3,3), activation='relu'),\n",
        "\n",
        "                  MaxPool2D(),\n",
        "                  Dropout(0.3),\n",
        "                  Conv2D(filters=64, kernel_size=(3,3), activation='relu', padding='same'),\n",
        "                  Conv2D(filters=64, kernel_size=(3,3), activation='relu'),\n",
        "\n",
        "                  MaxPool2D(),\n",
        "                  Dropout(0.3),\n",
        "\n",
        "                  Flatten(),\n",
        "                  Dense(1024, activation= 'relu'),\n",
        "                  Dropout(0.3),\n",
        "\n",
        "                  Dense(num_classes, activation='softmax'),\n",
        "])\n",
        "\n",
        "#get_cnn_v4(input_shape, num_classes).summary()\n",
        "training_and_predict(get_cnn_v4(input_shape, num_classes))"
      ],
      "execution_count": 93,
      "outputs": [
        {
          "output_type": "stream",
          "text": [
            "Epoch 1/5\n",
            "272/272 [==============================] - 4s 13ms/step - loss: 2.2123 - accuracy: 0.4014 - val_loss: 0.4858 - val_accuracy: 0.8618\n",
            "Epoch 2/5\n",
            "272/272 [==============================] - 3s 12ms/step - loss: 0.5712 - accuracy: 0.8268 - val_loss: 0.1089 - val_accuracy: 0.9701\n",
            "Epoch 3/5\n",
            "272/272 [==============================] - 3s 13ms/step - loss: 0.2876 - accuracy: 0.9154 - val_loss: 0.0527 - val_accuracy: 0.9845\n",
            "Epoch 4/5\n",
            "272/272 [==============================] - 3s 13ms/step - loss: 0.1863 - accuracy: 0.9451 - val_loss: 0.0330 - val_accuracy: 0.9904\n",
            "Epoch 5/5\n",
            "272/272 [==============================] - 3s 12ms/step - loss: 0.1553 - accuracy: 0.9534 - val_loss: 0.0268 - val_accuracy: 0.9920\n"
          ],
          "name": "stdout"
        },
        {
          "output_type": "execute_result",
          "data": {
            "text/plain": [
              "0.9684807256235828"
            ]
          },
          "metadata": {
            "tags": []
          },
          "execution_count": 93
        }
      ]
    },
    {
      "cell_type": "code",
      "metadata": {
        "id": "9NKOmeWvLR5H",
        "colab_type": "code",
        "colab": {
          "base_uri": "https://localhost:8080/",
          "height": 237
        },
        "outputId": "bb6453c5-82f7-40ff-b230-7e15f9071a65"
      },
      "source": [
        "def get_cnn_v5(input_shape, num_classes):\n",
        "  return  Sequential([\n",
        "                  Conv2D(filters=32, kernel_size=(3,3), activation='relu', input_shape=input_shape),\n",
        "                  Conv2D(filters=32, kernel_size=(3,3), activation='relu', padding='same'),\n",
        "                  MaxPool2D(),\n",
        "                  Dropout(0.3),\n",
        "\n",
        "                  Conv2D(filters=64, kernel_size=(3,3), activation='relu', padding='same'),\n",
        "                  Conv2D(filters=64, kernel_size=(3,3), activation='relu'),\n",
        "\n",
        "                  MaxPool2D(),\n",
        "                  Dropout(0.3),\n",
        "                  Conv2D(filters=64, kernel_size=(3,3), activation='relu', padding='same'),\n",
        "                  Conv2D(filters=64, kernel_size=(3,3), activation='relu'),\n",
        "\n",
        "                  MaxPool2D(),\n",
        "                  Dropout(0.3),\n",
        "\n",
        "                  Flatten(),\n",
        "                  Dense(1024, activation= 'relu'),\n",
        "                  Dropout(0.3),\n",
        "                  Dense(1024, activation= 'relu'),\n",
        "                  Dropout(0.3),\n",
        "\n",
        "                  Dense(num_classes, activation='softmax'),\n",
        "])\n",
        "\n",
        "#get_cnn_v4(input_shape, num_classes).summary()\n",
        "training_and_predict(get_cnn_v5(input_shape, num_classes))"
      ],
      "execution_count": 94,
      "outputs": [
        {
          "output_type": "stream",
          "text": [
            "Epoch 1/5\n",
            "272/272 [==============================] - 4s 14ms/step - loss: 2.7099 - accuracy: 0.2652 - val_loss: 1.0390 - val_accuracy: 0.6838\n",
            "Epoch 2/5\n",
            "272/272 [==============================] - 4s 13ms/step - loss: 0.8793 - accuracy: 0.7211 - val_loss: 0.2418 - val_accuracy: 0.9175\n",
            "Epoch 3/5\n",
            "272/272 [==============================] - 4s 13ms/step - loss: 0.3955 - accuracy: 0.8786 - val_loss: 0.1089 - val_accuracy: 0.9690\n",
            "Epoch 4/5\n",
            "272/272 [==============================] - 4s 13ms/step - loss: 0.2590 - accuracy: 0.9226 - val_loss: 0.0589 - val_accuracy: 0.9845\n",
            "Epoch 5/5\n",
            "272/272 [==============================] - 4s 13ms/step - loss: 0.1926 - accuracy: 0.9435 - val_loss: 0.0345 - val_accuracy: 0.9905\n"
          ],
          "name": "stdout"
        },
        {
          "output_type": "execute_result",
          "data": {
            "text/plain": [
              "0.9739229024943311"
            ]
          },
          "metadata": {
            "tags": []
          },
          "execution_count": 94
        }
      ]
    },
    {
      "cell_type": "code",
      "metadata": {
        "id": "j-uqOTNbY1hv",
        "colab_type": "code",
        "colab": {
          "base_uri": "https://localhost:8080/",
          "height": 35
        },
        "outputId": "1cc7041d-6de2-4e53-9057-82e315d6ac8e"
      },
      "source": [
        "X_train[0].shape"
      ],
      "execution_count": 95,
      "outputs": [
        {
          "output_type": "execute_result",
          "data": {
            "text/plain": [
              "(32, 32, 3)"
            ]
          },
          "metadata": {
            "tags": []
          },
          "execution_count": 95
        }
      ]
    },
    {
      "cell_type": "code",
      "metadata": {
        "id": "i1rFiTD_Y1Yj",
        "colab_type": "code",
        "colab": {
          "base_uri": "https://localhost:8080/",
          "height": 35
        },
        "outputId": "8e6f6cc4-3544-4590-b070-43478c9c17a8"
      },
      "source": [
        "X_train\n",
        "color.rgb2gray(X_train[0]).shape"
      ],
      "execution_count": 97,
      "outputs": [
        {
          "output_type": "execute_result",
          "data": {
            "text/plain": [
              "(32, 32)"
            ]
          },
          "metadata": {
            "tags": []
          },
          "execution_count": 97
        }
      ]
    },
    {
      "cell_type": "code",
      "metadata": {
        "id": "hVbOGQ6qY1K_",
        "colab_type": "code",
        "colab": {}
      },
      "source": [
        "X_train_gray = color.rgb2gray(X_train).reshape(-1, 32, 32, 1)\n",
        "X_test_gray = color.rgb2gray(X_test).reshape(-1, 32, 32, 1)"
      ],
      "execution_count": 0,
      "outputs": []
    },
    {
      "cell_type": "code",
      "metadata": {
        "id": "aAyKwEcGbDi-",
        "colab_type": "code",
        "colab": {}
      },
      "source": [
        "#X_train_gray.reshape(-1, 32, 32, 1).shape"
      ],
      "execution_count": 0,
      "outputs": []
    },
    {
      "cell_type": "code",
      "metadata": {
        "id": "x7q2IkIMZuA_",
        "colab_type": "code",
        "colab": {
          "base_uri": "https://localhost:8080/",
          "height": 237
        },
        "outputId": "63e424e7-755a-49e3-c2f9-0434ad757e65"
      },
      "source": [
        "model = get_cnn_v5((32,32,1), num_classes)\n",
        "model_trained = train_model(model, X_train_gray, y_train, params_fit={})\n",
        "predict(model_trained, X_test_gray, y_test)"
      ],
      "execution_count": 112,
      "outputs": [
        {
          "output_type": "stream",
          "text": [
            "Epoch 1/5\n",
            "272/272 [==============================] - 4s 14ms/step - loss: 2.3611 - accuracy: 0.3187 - val_loss: 0.5408 - val_accuracy: 0.8328\n",
            "Epoch 2/5\n",
            "272/272 [==============================] - 4s 13ms/step - loss: 0.4637 - accuracy: 0.8483 - val_loss: 0.1281 - val_accuracy: 0.9605\n",
            "Epoch 3/5\n",
            "272/272 [==============================] - 4s 13ms/step - loss: 0.2180 - accuracy: 0.9296 - val_loss: 0.0753 - val_accuracy: 0.9789\n",
            "Epoch 4/5\n",
            "272/272 [==============================] - 4s 13ms/step - loss: 0.1468 - accuracy: 0.9526 - val_loss: 0.0402 - val_accuracy: 0.9886\n",
            "Epoch 5/5\n",
            "272/272 [==============================] - 4s 13ms/step - loss: 0.1067 - accuracy: 0.9659 - val_loss: 0.0229 - val_accuracy: 0.9940\n"
          ],
          "name": "stdout"
        },
        {
          "output_type": "execute_result",
          "data": {
            "text/plain": [
              "0.9671201814058957"
            ]
          },
          "metadata": {
            "tags": []
          },
          "execution_count": 112
        }
      ]
    },
    {
      "cell_type": "code",
      "metadata": {
        "id": "PK5SGXwBZt92",
        "colab_type": "code",
        "colab": {
          "base_uri": "https://localhost:8080/",
          "height": 285
        },
        "outputId": "39db5184-391b-4175-f087-ad885e87c895"
      },
      "source": [
        "plt.imshow(color.rgb2gray(X_train[0]), cmap=plt.get_cmap('gray'))"
      ],
      "execution_count": 111,
      "outputs": [
        {
          "output_type": "execute_result",
          "data": {
            "text/plain": [
              "<matplotlib.image.AxesImage at 0x7f1adabae240>"
            ]
          },
          "metadata": {
            "tags": []
          },
          "execution_count": 111
        },
        {
          "output_type": "display_data",
          "data": {
            "image/png": "[encoded data removed]",
            "text/plain": [
              "<Figure size 432x288 with 1 Axes>"
            ]
          },
          "metadata": {
            "tags": []
          }
        }
      ]
    },
    {
      "cell_type": "code",
      "metadata": {
        "id": "TItxGa8FZt4a",
        "colab_type": "code",
        "colab": {}
      },
      "source": [
        "##JESCZE NAQ FILMIE BYLO WIECEJ"
      ],
      "execution_count": 0,
      "outputs": []
    },
    {
      "cell_type": "code",
      "metadata": {
        "id": "5GrpGj7JHSM-",
        "colab_type": "code",
        "colab": {
          "base_uri": "https://localhost:8080/",
          "height": 217
        },
        "outputId": "6d587ce2-4aeb-4f42-857b-5831758a3de6"
      },
      "source": [
        "y_pred_prob[400]"
      ],
      "execution_count": 18,
      "outputs": [
        {
          "output_type": "execute_result",
          "data": {
            "text/plain": [
              "array([5.5010236e-09, 9.9999988e-01, 7.7017131e-15, 2.1831603e-14,\n",
              "       8.9423921e-08, 1.9332235e-12, 1.7959863e-18, 6.8035010e-17,\n",
              "       1.1709584e-28, 9.4832009e-17, 1.3464366e-24, 2.0543618e-18,\n",
              "       4.8738494e-32, 1.5696905e-29, 3.9613937e-27, 8.6476689e-33,\n",
              "       5.2402204e-24, 1.0855983e-28, 7.9269707e-14, 2.5354436e-33,\n",
              "       1.9531131e-25, 3.8969095e-22, 1.9327508e-35, 5.6921497e-26,\n",
              "       5.9337026e-20, 4.1454715e-29, 7.8557748e-22, 1.6817528e-37,\n",
              "       1.9377528e-16, 1.3576865e-15, 1.9380026e-25, 1.1921103e-20,\n",
              "       0.0000000e+00, 7.7992885e-35, 5.2391290e-36, 9.9048457e-26,\n",
              "       0.0000000e+00, 0.0000000e+00, 6.8178755e-30, 0.0000000e+00,\n",
              "       6.7156304e-38, 1.8553990e-36, 1.9622348e-29], dtype=float32)"
            ]
          },
          "metadata": {
            "tags": []
          },
          "execution_count": 18
        }
      ]
    },
    {
      "cell_type": "code",
      "metadata": {
        "id": "HWZklr39HW8A",
        "colab_type": "code",
        "colab": {
          "base_uri": "https://localhost:8080/",
          "height": 285
        },
        "outputId": "b84ffbcb-5cbf-4963-80a0-2c8f7cc33172"
      },
      "source": [
        "plt.imshow(X_test[400])"
      ],
      "execution_count": 17,
      "outputs": [
        {
          "output_type": "execute_result",
          "data": {
            "text/plain": [
              "<matplotlib.image.AxesImage at 0x7f1aef460320>"
            ]
          },
          "metadata": {
            "tags": []
          },
          "execution_count": 17
        },
        {
          "output_type": "display_data",
          "data": {
            "image/png": "[encoded data removed]",
            "text/plain": [
              "<Figure size 432x288 with 1 Axes>"
            ]
          },
          "metadata": {
            "tags": []
          }
        }
      ]
    },
    {
      "cell_type": "code",
      "metadata": {
        "id": "y5nqi3gyIpre",
        "colab_type": "code",
        "colab": {
          "base_uri": "https://localhost:8080/",
          "height": 35
        },
        "outputId": "ab476676-78bc-473f-e76e-0affcc10086b"
      },
      "source": [
        "labels_dict[np.argmax(y_pred_prob[400])]"
      ],
      "execution_count": 19,
      "outputs": [
        {
          "output_type": "execute_result",
          "data": {
            "text/plain": [
              "'Speed limit (30km/h)'"
            ]
          },
          "metadata": {
            "tags": []
          },
          "execution_count": 19
        }
      ]
    },
    {
      "cell_type": "code",
      "metadata": {
        "id": "3uOyXARCI5NZ",
        "colab_type": "code",
        "colab": {}
      },
      "source": [
        ""
      ],
      "execution_count": 0,
      "outputs": []
    }
  ]
}