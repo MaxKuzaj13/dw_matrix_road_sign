{
  "nbformat": 4,
  "nbformat_minor": 0,
  "metadata": {
    "colab": {
      "name": "matrix_3_day_5.ipynb",
      "provenance": [],
      "mount_file_id": "15sjBBQLc-oRTZSUuwCGKOLeueEV_LON5",
      "authorship_tag": "ABX9TyM88VX3aiiux7wgnLK/7MYN",
      "include_colab_link": true
    },
    "kernelspec": {
      "name": "python3",
      "display_name": "Python 3"
    },
    "accelerator": "GPU"
  },
  "cells": [
    {
      "cell_type": "markdown",
      "metadata": {
        "id": "view-in-github",
        "colab_type": "text"
      },
      "source": [
        "<a href=\"https://colab.research.google.com/github/MaxKuzaj13/dw_matrix_road_sign/blob/master/matrix_3_day_5.ipynb\" target=\"_parent\"><img src=\"https://colab.research.google.com/assets/colab-badge.svg\" alt=\"Open In Colab\"/></a>"
      ]
    },
    {
      "cell_type": "code",
      "metadata": {
        "id": "75ATRQO2Fe3U",
        "colab_type": "code",
        "outputId": "e46db844-388a-4b8a-eb2c-51259a0430e9",
        "colab": {
          "base_uri": "https://localhost:8080/",
          "height": 35
        }
      },
      "source": [
        "pwd"
      ],
      "execution_count": 1,
      "outputs": [
        {
          "output_type": "execute_result",
          "data": {
            "text/plain": [
              "'/content'"
            ]
          },
          "metadata": {
            "tags": []
          },
          "execution_count": 1
        }
      ]
    },
    {
      "cell_type": "code",
      "metadata": {
        "id": "Hkgrm9hh2YbQ",
        "colab_type": "code",
        "colab": {
          "base_uri": "https://localhost:8080/",
          "height": 201
        },
        "outputId": "507aaef6-7e40-451e-aded-05d754914e8e"
      },
      "source": [
        "!pip install hyperopt"
      ],
      "execution_count": 3,
      "outputs": [
        {
          "output_type": "stream",
          "text": [
            "Requirement already satisfied: hyperopt in /usr/local/lib/python3.6/dist-packages (0.1.2)\n",
            "Requirement already satisfied: scipy in /usr/local/lib/python3.6/dist-packages (from hyperopt) (1.4.1)\n",
            "Requirement already satisfied: tqdm in /usr/local/lib/python3.6/dist-packages (from hyperopt) (4.38.0)\n",
            "Requirement already satisfied: future in /usr/local/lib/python3.6/dist-packages (from hyperopt) (0.16.0)\n",
            "Requirement already satisfied: networkx in /usr/local/lib/python3.6/dist-packages (from hyperopt) (2.4)\n",
            "Requirement already satisfied: pymongo in /usr/local/lib/python3.6/dist-packages (from hyperopt) (3.10.1)\n",
            "Requirement already satisfied: numpy in /usr/local/lib/python3.6/dist-packages (from hyperopt) (1.18.2)\n",
            "Requirement already satisfied: six in /usr/local/lib/python3.6/dist-packages (from hyperopt) (1.12.0)\n",
            "Requirement already satisfied: decorator>=4.3.0 in /usr/local/lib/python3.6/dist-packages (from networkx->hyperopt) (4.4.2)\n"
          ],
          "name": "stdout"
        }
      ]
    },
    {
      "cell_type": "code",
      "metadata": {
        "id": "ry7wbKF9FlQM",
        "colab_type": "code",
        "colab": {}
      },
      "source": [
        "import pandas as pd\n",
        "import numpy as np\n",
        "import tensorflow as tf\n",
        "from tensorflow.keras.models import Sequential\n",
        "from tensorflow.keras.layers import Conv2D, MaxPool2D, Dense, Flatten, Dropout\n",
        "from tensorflow.keras.utils import to_categorical\n",
        "import datetime\n",
        "import os\n",
        "\n",
        "\n",
        "#%load_ext tensorboard\n",
        "import matplotlib.pyplot as plt\n",
        "from skimage import color,exposure\n",
        "from sklearn.metrics import accuracy_score\n",
        "from hyperopt import hp, STATUS_OK, tpe, Trials, fmin"
      ],
      "execution_count": 0,
      "outputs": []
    },
    {
      "cell_type": "code",
      "metadata": {
        "id": "nhNYfS-zF_ve",
        "colab_type": "code",
        "outputId": "fcd4799b-b090-4f70-81a2-4bb3a68f7250",
        "colab": {
          "base_uri": "https://localhost:8080/",
          "height": 35
        }
      },
      "source": [
        "cd '/content/drive/My Drive/Colab Notebooks/matrix/matrix_three'"
      ],
      "execution_count": 6,
      "outputs": [
        {
          "output_type": "stream",
          "text": [
            "/content/drive/My Drive/Colab Notebooks/matrix/matrix_three\n"
          ],
          "name": "stdout"
        }
      ]
    },
    {
      "cell_type": "code",
      "metadata": {
        "id": "i4yo8JVpGAQV",
        "colab_type": "code",
        "colab": {}
      },
      "source": [
        "train = pd.read_pickle('data/train.p')\n",
        "test = pd.read_pickle('data/test.p')\n",
        "X_train, y_train = train['features'], train['labels']\n",
        "X_test, y_test = test['features'], test['labels']\n",
        "df = pd.read_csv('data/signnames.csv')\n",
        "labels_dict =df.to_dict()['b']"
      ],
      "execution_count": 0,
      "outputs": []
    },
    {
      "cell_type": "code",
      "metadata": {
        "id": "k8Hon6DCGFd0",
        "colab_type": "code",
        "colab": {}
      },
      "source": [
        ""
      ],
      "execution_count": 0,
      "outputs": []
    },
    {
      "cell_type": "code",
      "metadata": {
        "id": "2Zost3pgGVvt",
        "colab_type": "code",
        "colab": {}
      },
      "source": [
        "if y_train.ndim ==1: y_train = to_categorical(y_train)\n",
        "if y_test.ndim ==1: y_test = to_categorical(y_test)\n"
      ],
      "execution_count": 0,
      "outputs": []
    },
    {
      "cell_type": "code",
      "metadata": {
        "id": "Y3cw1naDGfOB",
        "colab_type": "code",
        "colab": {}
      },
      "source": [
        "input_shape = X_train.shape[1:]\n",
        "num_classes = y_train.shape[1]"
      ],
      "execution_count": 0,
      "outputs": []
    },
    {
      "cell_type": "code",
      "metadata": {
        "id": "HcvN7XFA25Gt",
        "colab_type": "code",
        "colab": {}
      },
      "source": [
        "def get_cnn_v1(input_shape, num_classes):\n",
        "  return  Sequential([\n",
        "                  Conv2D(filters=65, kernel_size=(3,3), activation='relu',input_shape=input_shape),\n",
        "                  Flatten(),\n",
        "                  Dense(num_classes, activation='softmax'),\n",
        "])"
      ],
      "execution_count": 0,
      "outputs": []
    },
    {
      "cell_type": "code",
      "metadata": {
        "id": "liFmSwxPGltd",
        "colab_type": "code",
        "colab": {}
      },
      "source": [
        "def train_model(model, X_train, y_train, params_fit={}):\n",
        "  model.compile(loss = 'categorical_crossentropy', optimizer= 'Adam', metrics=['accuracy'])\n",
        "\n",
        "  logdir=os.path.join(\"logs\", datetime.datetime.now().strftime(\"%Y%m%d-%H%M%S\"))\n",
        "  tensorboard_callback = tf.keras.callbacks.TensorBoard(logdir, histogram_freq=1)\n",
        "\n",
        "  model.fit(\n",
        "      X_train, \n",
        "      y_train,\n",
        "      batch_size = params_fit.get('batch_size', 128),\n",
        "      epochs = params_fit.get('epochs', 5),\n",
        "      verbose = params_fit.get('verbose', 1),\n",
        "      validation_data = params_fit.get('validation_data', (X_train, y_train)),\n",
        "      callbacks = [tensorboard_callback]\n",
        "  )\n",
        "  return model "
      ],
      "execution_count": 0,
      "outputs": []
    },
    {
      "cell_type": "code",
      "metadata": {
        "id": "SeS-EdLRX4XJ",
        "colab_type": "code",
        "colab": {}
      },
      "source": [
        "def get_cnn_v5(input_shape, num_classes):\n",
        "  return  Sequential([\n",
        "                  Conv2D(filters=32, kernel_size=(3,3), activation='relu', input_shape=input_shape),\n",
        "                  Conv2D(filters=32, kernel_size=(3,3), activation='relu', padding='same'),\n",
        "                  MaxPool2D(),\n",
        "                  Dropout(0.3),\n",
        "\n",
        "                  Conv2D(filters=64, kernel_size=(3,3), activation='relu', padding='same'),\n",
        "                  Conv2D(filters=64, kernel_size=(3,3), activation='relu'),\n",
        "\n",
        "                  MaxPool2D(),\n",
        "                  Dropout(0.3),\n",
        "                  Conv2D(filters=64, kernel_size=(3,3), activation='relu', padding='same'),\n",
        "                  Conv2D(filters=64, kernel_size=(3,3), activation='relu'),\n",
        "\n",
        "                  MaxPool2D(),\n",
        "                  Dropout(0.3),\n",
        "\n",
        "                  Flatten(),\n",
        "                  Dense(1024, activation= 'relu'),\n",
        "                  Dropout(0.3),\n",
        "                  Dense(1024, activation= 'relu'),\n",
        "                  Dropout(0.3),\n",
        "\n",
        "                  Dense(num_classes, activation='softmax'),\n",
        "])"
      ],
      "execution_count": 0,
      "outputs": []
    },
    {
      "cell_type": "code",
      "metadata": {
        "id": "jwWqgHfYG1xA",
        "colab_type": "code",
        "outputId": "8c4a8d56-0963-4d4a-fde6-2d027d61cd2a",
        "colab": {
          "base_uri": "https://localhost:8080/",
          "height": 237
        }
      },
      "source": [
        "model  = get_cnn_v5(input_shape, num_classes)\n",
        "model_trained = train_model(model, X_train, y_train)\n",
        "predict(model_trained, X_test, y_test)"
      ],
      "execution_count": 17,
      "outputs": [
        {
          "output_type": "stream",
          "text": [
            "Epoch 1/5\n",
            "272/272 [==============================] - 4s 15ms/step - loss: 2.5039 - accuracy: 0.2891 - val_loss: 1.4053 - val_accuracy: 0.5249\n",
            "Epoch 2/5\n",
            "272/272 [==============================] - 4s 14ms/step - loss: 1.0517 - accuracy: 0.6554 - val_loss: 0.2446 - val_accuracy: 0.9230\n",
            "Epoch 3/5\n",
            "272/272 [==============================] - 4s 14ms/step - loss: 0.3849 - accuracy: 0.8787 - val_loss: 0.0939 - val_accuracy: 0.9725\n",
            "Epoch 4/5\n",
            "272/272 [==============================] - 4s 14ms/step - loss: 0.2318 - accuracy: 0.9290 - val_loss: 0.0653 - val_accuracy: 0.9810\n",
            "Epoch 5/5\n",
            "272/272 [==============================] - 4s 14ms/step - loss: 0.1833 - accuracy: 0.9459 - val_loss: 0.0323 - val_accuracy: 0.9912\n"
          ],
          "name": "stdout"
        },
        {
          "output_type": "execute_result",
          "data": {
            "text/plain": [
              "0.9659863945578231"
            ]
          },
          "metadata": {
            "tags": []
          },
          "execution_count": 17
        }
      ]
    },
    {
      "cell_type": "code",
      "metadata": {
        "id": "qikjEacV5P8z",
        "colab_type": "code",
        "colab": {}
      },
      "source": [
        ""
      ],
      "execution_count": 0,
      "outputs": []
    },
    {
      "cell_type": "code",
      "metadata": {
        "id": "9wqZc5Af5P0i",
        "colab_type": "code",
        "colab": {
          "base_uri": "https://localhost:8080/",
          "height": 54
        },
        "outputId": "d7e63e84-5931-40a5-b316-6bbc512bf074"
      },
      "source": [
        "model_trained.evaluate(X_test, y_test)[1]"
      ],
      "execution_count": 19,
      "outputs": [
        {
          "output_type": "stream",
          "text": [
            "138/138 [==============================] - 0s 3ms/step - loss: 0.1461 - accuracy: 0.9660\n"
          ],
          "name": "stdout"
        },
        {
          "output_type": "execute_result",
          "data": {
            "text/plain": [
              "0.9659863710403442"
            ]
          },
          "metadata": {
            "tags": []
          },
          "execution_count": 19
        }
      ]
    },
    {
      "cell_type": "code",
      "metadata": {
        "id": "VwoYK4tJ7RyA",
        "colab_type": "code",
        "colab": {}
      },
      "source": [
        "def get_model(params):\n",
        "  return  Sequential([\n",
        "                  Conv2D(filters=32, kernel_size=(3,3), activation='relu', input_shape=input_shape),\n",
        "                  Conv2D(filters=32, kernel_size=(3,3), activation='relu', padding='same'),\n",
        "                  MaxPool2D(),\n",
        "                  Dropout(params['dropout_cnn_block_one']),\n",
        "\n",
        "                  Conv2D(filters=64, kernel_size=(3,3), activation='relu', padding='same'),\n",
        "                  Conv2D(filters=64, kernel_size=(3,3), activation='relu'),\n",
        "\n",
        "                  MaxPool2D(),\n",
        "                  Dropout(params['dropout_cnn_block_two']),\n",
        "                  Conv2D(filters=128, kernel_size=(3,3), activation='relu', padding='same'),\n",
        "                  Conv2D(filters=128, kernel_size=(3,3), activation='relu'),\n",
        "\n",
        "                  MaxPool2D(),\n",
        "                  Dropout(params['dropout_cnn_block_three']),\n",
        "\n",
        "                  Flatten(),\n",
        "                  Dense(1024, activation= 'relu'),\n",
        "                  Dropout(params['dropout_dense_block_one']),\n",
        "                  Dense(1024, activation= 'relu'),\n",
        "                  Dropout(params['dropout_dense_block_two']),\n",
        "\n",
        "                  Dense(num_classes, activation='softmax'),\n",
        "])"
      ],
      "execution_count": 0,
      "outputs": []
    },
    {
      "cell_type": "code",
      "metadata": {
        "id": "2BjVe98eHAKJ",
        "colab_type": "code",
        "colab": {}
      },
      "source": [
        "def func_obj(params):\n",
        "  model =  get_model(params)\n",
        "  model.compile(loss = 'categorical_crossentropy', optimizer= 'Adam', metrics=['accuracy'])\n",
        "\n",
        "\n",
        "  model.fit(\n",
        "      X_train, \n",
        "      y_train,\n",
        "      batch_size = int(params.get('batch_size', 128)),\n",
        "      epochs = 5,\n",
        "      verbose = 0\n",
        "  )\n",
        "\n",
        "  score = model.evaluate(X_test, y_test, verbose = 0)\n",
        "  accuracy = score[1]\n",
        "  print(params, 'accuracy={}'.format(accuracy))\n",
        "  return {'loss': -accuracy, 'status':STATUS_OK, 'model': model}"
      ],
      "execution_count": 0,
      "outputs": []
    },
    {
      "cell_type": "code",
      "metadata": {
        "id": "_n1C1kB-zNbo",
        "colab_type": "code",
        "outputId": "3181ed8b-5566-45d6-ca7b-c386f32efdce",
        "colab": {
          "base_uri": "https://localhost:8080/",
          "height": 1000
        }
      },
      "source": [
        "space = {\n",
        "    'batch_size' : hp.quniform('batch_size', 100, 200, 10),\n",
        "    'dropout_cnn_block_one' : hp.uniform('dropout_cnn_block_one', 0.3, 0.5),\n",
        "    'dropout_cnn_block_two' : hp.uniform('dropout_cnn_block_two', 0.3, 0.5),\n",
        "    'dropout_cnn_block_three' : hp.uniform('dropout_cnn_block_three', 0.3, 0.5),\n",
        "    'dropout_dense_block_one' :  hp.uniform('dropout_dense_block_one', 0.3, 0.7),\n",
        "    'dropout_dense_block_two' :  hp.uniform('dropout_dense_block_two', 0.3, 0.7),\n",
        "}\n",
        "best = fmin(\n",
        "    func_obj, \n",
        "    space, \n",
        "    tpe.suggest, \n",
        "    30, \n",
        "    Trials()\n",
        ")"
      ],
      "execution_count": 35,
      "outputs": [
        {
          "output_type": "stream",
          "text": [
            "{'batch_size': 150.0, 'dropout_cnn_block_one': 0.38605352925930203, 'dropout_cnn_block_three': 0.4446325595273017, 'dropout_cnn_block_two': 0.4209915509556511, 'dropout_dense_block_one': 0.693364925857152, 'dropout_dense_block_two': 0.6663907549077142}\n",
            "accuracy=0.7950113415718079\n",
            "{'batch_size': 150.0, 'dropout_cnn_block_one': 0.4433491749951003, 'dropout_cnn_block_three': 0.4612848418508583, 'dropout_cnn_block_two': 0.47756306441664803, 'dropout_dense_block_one': 0.6625561184671376, 'dropout_dense_block_two': 0.5903412455801265}\n",
            "accuracy=0.44195011258125305\n",
            "{'batch_size': 180.0, 'dropout_cnn_block_one': 0.38991298928728435, 'dropout_cnn_block_three': 0.4116095669083959, 'dropout_cnn_block_two': 0.44490414255188787, 'dropout_dense_block_one': 0.5840844292720236, 'dropout_dense_block_two': 0.568868629037986}\n",
            "accuracy=0.855555534362793\n",
            "{'batch_size': 170.0, 'dropout_cnn_block_one': 0.49696444541645396, 'dropout_cnn_block_three': 0.3672309567632586, 'dropout_cnn_block_two': 0.32011882783973333, 'dropout_dense_block_one': 0.6368894067285491, 'dropout_dense_block_two': 0.5777550972210853}\n",
            "accuracy=0.8455782532691956\n",
            "{'batch_size': 130.0, 'dropout_cnn_block_one': 0.3684043219511808, 'dropout_cnn_block_three': 0.4317057593073256, 'dropout_cnn_block_two': 0.3689092334112897, 'dropout_dense_block_one': 0.5334413381926619, 'dropout_dense_block_two': 0.3908731115919525}\n",
            "accuracy=0.938548743724823\n",
            "{'batch_size': 190.0, 'dropout_cnn_block_one': 0.47169114753610275, 'dropout_cnn_block_three': 0.4671496126627089, 'dropout_cnn_block_two': 0.3382170328691775, 'dropout_dense_block_one': 0.39817211083790405, 'dropout_dense_block_two': 0.4024888901710575}\n",
            "accuracy=0.922448992729187\n",
            "{'batch_size': 120.0, 'dropout_cnn_block_one': 0.4486774080539847, 'dropout_cnn_block_three': 0.491250455746486, 'dropout_cnn_block_two': 0.459112946187156, 'dropout_dense_block_one': 0.42624954336507026, 'dropout_dense_block_two': 0.3450956294675179}\n",
            "accuracy=0.9006802439689636\n",
            "{'batch_size': 130.0, 'dropout_cnn_block_one': 0.380665822221618, 'dropout_cnn_block_three': 0.4974158131986277, 'dropout_cnn_block_two': 0.35482609353570854, 'dropout_dense_block_one': 0.3509508629389786, 'dropout_dense_block_two': 0.47092821256014605}\n",
            "accuracy=0.956462562084198\n",
            "{'batch_size': 130.0, 'dropout_cnn_block_one': 0.34634478664211205, 'dropout_cnn_block_three': 0.3308703527909664, 'dropout_cnn_block_two': 0.4219845162880571, 'dropout_dense_block_one': 0.4660863701197697, 'dropout_dense_block_two': 0.4963500120461457}\n",
            "accuracy=0.9371882081031799\n",
            "{'batch_size': 160.0, 'dropout_cnn_block_one': 0.41060453398873037, 'dropout_cnn_block_three': 0.4143019076741441, 'dropout_cnn_block_two': 0.34187781420495755, 'dropout_dense_block_one': 0.6590764514760409, 'dropout_dense_block_two': 0.6978434857514797}\n",
            "accuracy=0.7911564707756042\n",
            "{'batch_size': 190.0, 'dropout_cnn_block_one': 0.4968380003233608, 'dropout_cnn_block_three': 0.3260990850856743, 'dropout_cnn_block_two': 0.48742474867386004, 'dropout_dense_block_one': 0.4287802344443725, 'dropout_dense_block_two': 0.30296421570074256}\n",
            "accuracy=0.8070294857025146\n",
            "{'batch_size': 110.0, 'dropout_cnn_block_one': 0.3582552928386759, 'dropout_cnn_block_three': 0.3785608115679326, 'dropout_cnn_block_two': 0.3012441628644333, 'dropout_dense_block_one': 0.6303475807149861, 'dropout_dense_block_two': 0.6854326943862006}\n",
            "accuracy=0.9145124554634094\n",
            "{'batch_size': 180.0, 'dropout_cnn_block_one': 0.3312185728595923, 'dropout_cnn_block_three': 0.45345835424960773, 'dropout_cnn_block_two': 0.38971159948111495, 'dropout_dense_block_one': 0.4722780543182895, 'dropout_dense_block_two': 0.5002937905814134}\n",
            "accuracy=0.9596371650695801\n",
            "{'batch_size': 180.0, 'dropout_cnn_block_one': 0.469212760615221, 'dropout_cnn_block_three': 0.35063310544030624, 'dropout_cnn_block_two': 0.4950602217700367, 'dropout_dense_block_one': 0.5015627610205379, 'dropout_dense_block_two': 0.40987628982124436}\n",
            "accuracy=0.9523809552192688\n",
            "{'batch_size': 150.0, 'dropout_cnn_block_one': 0.4192565057406913, 'dropout_cnn_block_three': 0.41070131649585906, 'dropout_cnn_block_two': 0.40088658996906007, 'dropout_dense_block_one': 0.6214005509740725, 'dropout_dense_block_two': 0.4414429513920166}\n",
            "accuracy=0.9358276724815369\n",
            "{'batch_size': 170.0, 'dropout_cnn_block_one': 0.3991749968887306, 'dropout_cnn_block_three': 0.3048712247374812, 'dropout_cnn_block_two': 0.3955037474888528, 'dropout_dense_block_one': 0.6847765935124673, 'dropout_dense_block_two': 0.37691582867079787}\n",
            "accuracy=0.9215419292449951\n",
            "{'batch_size': 120.0, 'dropout_cnn_block_one': 0.4920772785443118, 'dropout_cnn_block_three': 0.4704232551387908, 'dropout_cnn_block_two': 0.42794044933518793, 'dropout_dense_block_one': 0.42234197138323043, 'dropout_dense_block_two': 0.4066074244854003}\n",
            "accuracy=0.8739228844642639\n",
            "{'batch_size': 120.0, 'dropout_cnn_block_one': 0.3626339527009267, 'dropout_cnn_block_three': 0.4948805742911838, 'dropout_cnn_block_two': 0.31619510532283696, 'dropout_dense_block_one': 0.6713216066672574, 'dropout_dense_block_two': 0.5210320898342371}\n",
            "accuracy=0.9628117680549622\n",
            "{'batch_size': 120.0, 'dropout_cnn_block_one': 0.32834993124923945, 'dropout_cnn_block_three': 0.33373435223157233, 'dropout_cnn_block_two': 0.3489033591986641, 'dropout_dense_block_one': 0.6237266845686233, 'dropout_dense_block_two': 0.5818287607599231}\n",
            "accuracy=0.9460317492485046\n",
            "{'batch_size': 150.0, 'dropout_cnn_block_one': 0.4175325785071443, 'dropout_cnn_block_three': 0.4331831533298771, 'dropout_cnn_block_two': 0.3885331323745548, 'dropout_dense_block_one': 0.4434261201931925, 'dropout_dense_block_two': 0.517052649509681}\n",
            "accuracy=0.91700679063797\n",
            "{'batch_size': 200.0, 'dropout_cnn_block_one': 0.3067629068971396, 'dropout_cnn_block_three': 0.4867245503456612, 'dropout_cnn_block_two': 0.3069520181687355, 'dropout_dense_block_one': 0.5621893835869287, 'dropout_dense_block_two': 0.5397374056219193}\n",
            "accuracy=0.9628117680549622\n",
            "{'batch_size': 100.0, 'dropout_cnn_block_one': 0.3070526749117344, 'dropout_cnn_block_three': 0.4857092992159558, 'dropout_cnn_block_two': 0.30066599879425726, 'dropout_dense_block_one': 0.5670104307491608, 'dropout_dense_block_two': 0.63104744266667}\n",
            "accuracy=0.9482993483543396\n",
            "{'batch_size': 100.0, 'dropout_cnn_block_one': 0.3051829405639421, 'dropout_cnn_block_three': 0.4999708560658972, 'dropout_cnn_block_two': 0.3200257749585585, 'dropout_dense_block_one': 0.574163823759771, 'dropout_dense_block_two': 0.5321363251898676}\n",
            "accuracy=0.9560090899467468\n",
            "{'batch_size': 200.0, 'dropout_cnn_block_one': 0.3211587451961786, 'dropout_cnn_block_three': 0.4790992907654202, 'dropout_cnn_block_two': 0.3189950429781991, 'dropout_dense_block_one': 0.5330806845252724, 'dropout_dense_block_two': 0.6261227054662829}\n",
            "accuracy=0.9446712136268616\n",
            "{'batch_size': 140.0, 'dropout_cnn_block_one': 0.34716422904942784, 'dropout_cnn_block_three': 0.4993127155134379, 'dropout_cnn_block_two': 0.3004196428280802, 'dropout_dense_block_one': 0.5948499275811976, 'dropout_dense_block_two': 0.5398729009319051}\n",
            "accuracy=0.9070294499397278\n",
            "{'batch_size': 110.0, 'dropout_cnn_block_one': 0.300454732301798, 'dropout_cnn_block_three': 0.3929796232340688, 'dropout_cnn_block_two': 0.3685116451053876, 'dropout_dense_block_one': 0.30899355396660033, 'dropout_dense_block_two': 0.4638882046604628}\n",
            "accuracy=0.9655328989028931\n",
            "{'batch_size': 110.0, 'dropout_cnn_block_one': 0.31178693667307283, 'dropout_cnn_block_three': 0.3881253628694807, 'dropout_cnn_block_two': 0.36898603492478044, 'dropout_dense_block_one': 0.3017428184907338, 'dropout_dense_block_two': 0.4791796841682101}\n",
            "accuracy=0.9687075018882751\n",
            "{'batch_size': 110.0, 'dropout_cnn_block_one': 0.30273175357344334, 'dropout_cnn_block_three': 0.3883705906460172, 'dropout_cnn_block_two': 0.3728405678454447, 'dropout_dense_block_one': 0.33033628588387187, 'dropout_dense_block_two': 0.43885590896029325}\n",
            "accuracy=0.9571428298950195\n",
            "{'batch_size': 110.0, 'dropout_cnn_block_one': 0.3387188204346062, 'dropout_cnn_block_three': 0.36167193845069556, 'dropout_cnn_block_two': 0.40742825229117147, 'dropout_dense_block_one': 0.3010446645256069, 'dropout_dense_block_two': 0.45858197855041777}\n",
            "accuracy=0.9691609740257263\n",
            "{'batch_size': 100.0, 'dropout_cnn_block_one': 0.34266045962602987, 'dropout_cnn_block_three': 0.3613053183232201, 'dropout_cnn_block_two': 0.4321322721504507, 'dropout_dense_block_one': 0.38214601673516646, 'dropout_dense_block_two': 0.35474628533917346}\n",
            "accuracy=0.9308390021324158\n",
            "100%|██████████| 30/30 [05:27<00:00, 10.92s/it, best loss: -0.9691609740257263]\n"
          ],
          "name": "stdout"
        }
      ]
    },
    {
      "cell_type": "code",
      "metadata": {
        "id": "Nhi5E78TN99U",
        "colab_type": "code",
        "colab": {}
      },
      "source": [
        ""
      ],
      "execution_count": 0,
      "outputs": []
    },
    {
      "cell_type": "code",
      "metadata": {
        "id": "tDT7twlbUY7J",
        "colab_type": "code",
        "colab": {}
      },
      "source": [
        ""
      ],
      "execution_count": 0,
      "outputs": []
    },
    {
      "cell_type": "code",
      "metadata": {
        "id": "9MsTkC5EQ148",
        "colab_type": "code",
        "colab": {}
      },
      "source": [
        ""
      ],
      "execution_count": 0,
      "outputs": []
    },
    {
      "cell_type": "code",
      "metadata": {
        "id": "-99fNOkWNWtX",
        "colab_type": "code",
        "colab": {}
      },
      "source": [
        ""
      ],
      "execution_count": 0,
      "outputs": []
    },
    {
      "cell_type": "code",
      "metadata": {
        "id": "mpa8aOm_V5Qc",
        "colab_type": "code",
        "colab": {}
      },
      "source": [
        ""
      ],
      "execution_count": 0,
      "outputs": []
    },
    {
      "cell_type": "code",
      "metadata": {
        "id": "9NKOmeWvLR5H",
        "colab_type": "code",
        "colab": {}
      },
      "source": [
        ""
      ],
      "execution_count": 0,
      "outputs": []
    },
    {
      "cell_type": "code",
      "metadata": {
        "id": "j-uqOTNbY1hv",
        "colab_type": "code",
        "colab": {}
      },
      "source": [
        ""
      ],
      "execution_count": 0,
      "outputs": []
    },
    {
      "cell_type": "code",
      "metadata": {
        "id": "i1rFiTD_Y1Yj",
        "colab_type": "code",
        "colab": {}
      },
      "source": [
        ""
      ],
      "execution_count": 0,
      "outputs": []
    },
    {
      "cell_type": "code",
      "metadata": {
        "id": "hVbOGQ6qY1K_",
        "colab_type": "code",
        "colab": {}
      },
      "source": [
        ""
      ],
      "execution_count": 0,
      "outputs": []
    },
    {
      "cell_type": "code",
      "metadata": {
        "id": "aAyKwEcGbDi-",
        "colab_type": "code",
        "colab": {}
      },
      "source": [
        ""
      ],
      "execution_count": 0,
      "outputs": []
    },
    {
      "cell_type": "code",
      "metadata": {
        "id": "x7q2IkIMZuA_",
        "colab_type": "code",
        "colab": {}
      },
      "source": [
        ""
      ],
      "execution_count": 0,
      "outputs": []
    },
    {
      "cell_type": "code",
      "metadata": {
        "id": "PK5SGXwBZt92",
        "colab_type": "code",
        "colab": {}
      },
      "source": [
        ""
      ],
      "execution_count": 0,
      "outputs": []
    },
    {
      "cell_type": "code",
      "metadata": {
        "id": "TItxGa8FZt4a",
        "colab_type": "code",
        "colab": {}
      },
      "source": [
        "##JESCZE NAQ FILMIE BYLO WIECEJ"
      ],
      "execution_count": 0,
      "outputs": []
    },
    {
      "cell_type": "code",
      "metadata": {
        "id": "5GrpGj7JHSM-",
        "colab_type": "code",
        "colab": {}
      },
      "source": [
        ""
      ],
      "execution_count": 0,
      "outputs": []
    },
    {
      "cell_type": "code",
      "metadata": {
        "id": "HWZklr39HW8A",
        "colab_type": "code",
        "colab": {}
      },
      "source": [
        ""
      ],
      "execution_count": 0,
      "outputs": []
    },
    {
      "cell_type": "code",
      "metadata": {
        "id": "y5nqi3gyIpre",
        "colab_type": "code",
        "colab": {}
      },
      "source": [
        ""
      ],
      "execution_count": 0,
      "outputs": []
    },
    {
      "cell_type": "code",
      "metadata": {
        "id": "3uOyXARCI5NZ",
        "colab_type": "code",
        "colab": {}
      },
      "source": [
        ""
      ],
      "execution_count": 0,
      "outputs": []
    }
  ]
}